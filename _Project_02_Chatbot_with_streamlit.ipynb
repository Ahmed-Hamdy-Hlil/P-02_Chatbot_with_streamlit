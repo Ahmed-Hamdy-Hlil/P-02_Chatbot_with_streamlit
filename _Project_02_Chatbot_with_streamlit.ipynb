{
  "nbformat": 4,
  "nbformat_minor": 0,
  "metadata": {
    "colab": {
      "provenance": []
    },
    "kernelspec": {
      "name": "python3",
      "display_name": "Python 3"
    },
    "language_info": {
      "name": "python"
    }
  },
  "cells": [
    {
      "cell_type": "code",
      "execution_count": null,
      "metadata": {
        "id": "TFTtiwbScLZZ"
      },
      "outputs": [],
      "source": [
        "pip install pyngrok"
      ]
    },
    {
      "cell_type": "code",
      "source": [
        "pip install streamlit"
      ],
      "metadata": {
        "id": "JRkgTlcrcVCk"
      },
      "execution_count": null,
      "outputs": []
    },
    {
      "cell_type": "code",
      "source": [
        "! pip install google-generativeai"
      ],
      "metadata": {
        "id": "F-1NuUoReN5N"
      },
      "execution_count": null,
      "outputs": []
    },
    {
      "cell_type": "code",
      "source": [
        "%%writefile ChatBot.py\n",
        "api_key = 'Your API'\n",
        "import os\n",
        "import streamlit as st\n",
        "import google.generativeai as genai\n",
        "\n",
        "st.title('Welcome To My Chatbot')\n",
        "# Call or configure or connect with my api\n",
        "if api_key:\n",
        "  genai.configure(api_key = api_key)\n",
        "else:\n",
        "  st.error('API Not Found !')\n",
        "# function to generate response from model !\n",
        "def generate_text(text):\n",
        "  # create model\n",
        "  model = genai.GenerativeModel('gemini-pro')\n",
        "  # take text from user and give it to model !\n",
        "  response = model.generate_content(text)\n",
        "  # return response\n",
        "  return response.text\n",
        "\n",
        "if 'messages' not in st.session_state:\n",
        "  st.session_state.messages = []\n",
        "\n",
        "\n",
        "# Display all messages\n",
        "for message in st.session_state.messages:\n",
        "  with st.chat_message(message['role']):\n",
        "    st.markdown(message['content'])\n",
        "\n",
        "# Input area for user\n",
        "if input_user := st.chat_input('Enter your Text ...' , disabled= False):\n",
        "  # display user message\n",
        "  with st.chat_message('user'):\n",
        "    st.markdown(input_user)\n",
        "  # append messages in dictionary st.session_state.messages to keep message on screen and in session without remove it in everytime\n",
        "  st.session_state.messages.append({'role' : 'user' , 'content' : input_user})\n",
        "  # display ai assistant's message\n",
        "  with st.chat_message('assistant'):\n",
        "    message_placeholder = st.empty()\n",
        "    with st.spinner('Generating response ...'):\n",
        "      response = generate_text(input_user)\n",
        "      message_placeholder.markdown(response)\n",
        "  # append messages of assistant\n",
        "  st.session_state.messages.append({'role' : 'assistant' , 'content' : response})"
      ],
      "metadata": {
        "colab": {
          "base_uri": "https://localhost:8080/"
        },
        "id": "pZoPJ-wQcYFf",
        "outputId": "f6f6755a-4f70-4120-fae2-4017275c62f6"
      },
      "execution_count": null,
      "outputs": [
        {
          "output_type": "stream",
          "name": "stdout",
          "text": [
            "Writing ChatBot.py\n"
          ]
        }
      ]
    },
    {
      "cell_type": "code",
      "source": [
        "#set up ngrok with your authontication key\n",
        "# https://dashboard.ngrok.com/get-started/your-authtoken\n",
        "! ngrok authtoken 'Your authontication key'"
      ],
      "metadata": {
        "colab": {
          "base_uri": "https://localhost:8080/"
        },
        "id": "SrCz5tSrcc2h",
        "outputId": "6b109c49-cedd-42c3-9d0f-019552bea110"
      },
      "execution_count": null,
      "outputs": [
        {
          "output_type": "stream",
          "name": "stdout",
          "text": [
            "Authtoken saved to configuration file: /root/.config/ngrok/ngrok.yml\n"
          ]
        }
      ]
    },
    {
      "cell_type": "code",
      "source": [
        "from pyngrok import ngrok\n",
        "! streamlit run ChatBot.py &>/dev/null&"
      ],
      "metadata": {
        "id": "Mvb5B7B3ceVo"
      },
      "execution_count": null,
      "outputs": []
    },
    {
      "cell_type": "code",
      "source": [
        "!pgrep -f streamlit"
      ],
      "metadata": {
        "colab": {
          "base_uri": "https://localhost:8080/"
        },
        "id": "ukgd0rxgchnY",
        "outputId": "a867f5ff-d983-4b94-bf4e-98f579723f40"
      },
      "execution_count": null,
      "outputs": [
        {
          "output_type": "stream",
          "name": "stdout",
          "text": [
            "507\n",
            "4074\n",
            "5952\n",
            "10356\n"
          ]
        }
      ]
    },
    {
      "cell_type": "code",
      "source": [
        "puplic_url = ngrok.connect('8501')\n",
        "print(puplic_url)"
      ],
      "metadata": {
        "colab": {
          "base_uri": "https://localhost:8080/"
        },
        "id": "ZRuVXEUgcjLw",
        "outputId": "a9c71a39-adfa-4be4-9c96-5070832bd36b"
      },
      "execution_count": null,
      "outputs": [
        {
          "output_type": "stream",
          "name": "stdout",
          "text": [
            "NgrokTunnel: \"https://1300-34-30-118-102.ngrok-free.app\" -> \"http://localhost:8501\"\n"
          ]
        }
      ]
    },
    {
      "cell_type": "markdown",
      "source": [
        "# **Kill Processes**"
      ],
      "metadata": {
        "id": "hBZhGykWcl85"
      }
    },
    {
      "cell_type": "code",
      "source": [
        "!pkill -f streamlit\n",
        "!pkill -f ngrok"
      ],
      "metadata": {
        "id": "6H7gcqkIcoG1"
      },
      "execution_count": null,
      "outputs": []
    },
    {
      "cell_type": "code",
      "source": [
        "import subprocess\n",
        "\n",
        "# Kill any existing ngrok processes\n",
        "subprocess.run([\"pkill\", \"ngrok\"])"
      ],
      "metadata": {
        "colab": {
          "base_uri": "https://localhost:8080/"
        },
        "id": "HettkkB3cpZh",
        "outputId": "33f9b606-07f0-4996-a548-b719c9680d0d"
      },
      "execution_count": null,
      "outputs": [
        {
          "output_type": "execute_result",
          "data": {
            "text/plain": [
              "CompletedProcess(args=['pkill', 'ngrok'], returncode=0)"
            ]
          },
          "metadata": {},
          "execution_count": 30
        }
      ]
    },
    {
      "cell_type": "code",
      "source": [],
      "metadata": {
        "id": "-rK50x7ZAle0"
      },
      "execution_count": null,
      "outputs": []
    }
  ]
}